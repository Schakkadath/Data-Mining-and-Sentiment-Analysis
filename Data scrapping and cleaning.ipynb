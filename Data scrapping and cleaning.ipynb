{
 "cells": [
  {
   "cell_type": "code",
   "execution_count": 1,
   "metadata": {},
   "outputs": [],
   "source": [
    "import pandas as pd\n",
    "import snscrape.modules.twitter as sntwitter\n",
    "import itertools"
   ]
  },
  {
   "cell_type": "code",
   "execution_count": null,
   "metadata": {},
   "outputs": [],
   "source": [
    "# # Creating list to append tweet data to\n",
    "# attributes_container = []\n",
    "# for Location in uscities['city']:\n",
    "#     # Using TwitterSearchScraper to scrape data and append tweets to list\n",
    "#     for i,tweet in enumerate(sntwitter.TwitterSearchScraper(f'Roe v. Wade OR roe v wade since:2022-06-24 until:2022-07-24 lang:en exclude:retweets exclude:replies near:{Location} within:10km').get_items()):\n",
    "#         if i > 1000:\n",
    "#             break\n",
    "#         attributes_container.append([tweet.username, tweet.date, tweet.content, Location])\n",
    "    \n",
    "# # Creating a dataframe to load the list\n",
    "# tweets_df = pd.DataFrame(attributes_container, columns=[\"User\", \"Date Created\", \"Tweet\", \"Location\"])"
   ]
  },
  {
   "cell_type": "code",
   "execution_count": null,
   "metadata": {
    "scrolled": true
   },
   "outputs": [],
   "source": [
    "# tweets_df"
   ]
  },
  {
   "cell_type": "code",
   "execution_count": 8,
   "metadata": {},
   "outputs": [],
   "source": [
    "uscities = pd.read_csv(\"uscities.csv\")\n",
    "uscities = uscities[[\"city\", \"state_id\", \"state_name\", \"lat\", \"lng\", \"population\"]]\n",
    "uscities[\"coordinates\"] = uscities['lat'].astype(str) + \", \" + uscities['lng'].astype(str) + \", 10km\" \n",
    "uscities['rank'] = uscities.groupby('state_name')['population'].rank(ascending=False)\n",
    "uscities =  uscities[uscities['rank'] <= 5] "
   ]
  },
  {
   "cell_type": "code",
   "execution_count": 17,
   "metadata": {},
   "outputs": [],
   "source": [
    "# uscities"
   ]
  },
  {
   "cell_type": "code",
   "execution_count": 10,
   "metadata": {
    "scrolled": true
   },
   "outputs": [
    {
     "name": "stderr",
     "output_type": "stream",
     "text": [
      "C:\\Users\\Sreelaxmi\\AppData\\Local\\Continuum\\anaconda3\\lib\\site-packages\\ipykernel_launcher.py:9: FutureWarning: username is deprecated, use user.username instead\n",
      "  if __name__ == '__main__':\n"
     ]
    }
   ],
   "source": [
    "# Creating list to append tweet data to\n",
    "\n",
    "attributes_container = []\n",
    "for Location in uscities['coordinates']:\n",
    "    # Using TwitterSearchScraper to scrape data and append tweets to list\n",
    "    for i,tweet in enumerate(sntwitter.TwitterSearchScraper('Roe v. Wade since:2022-06-25 until:2022-07-25 lang:en exclude:retweets exclude:replies geocode:\"{}\"'.format(Location)).get_items()):\n",
    "        if i > 1000:\n",
    "            break\n",
    "        attributes_container.append([tweet.username, tweet.date, tweet.content, Location])\n",
    "    \n",
    "# Creating a dataframe to load the list\n",
    "tweets_df_b = pd.DataFrame(attributes_container, columns=[\"User\", \"Date Created\", \"Tweet\", \"Location\"])"
   ]
  },
  {
   "cell_type": "code",
   "execution_count": 16,
   "metadata": {
    "scrolled": true
   },
   "outputs": [],
   "source": [
    "# tweets_df_b"
   ]
  },
  {
   "cell_type": "code",
   "execution_count": 12,
   "metadata": {},
   "outputs": [],
   "source": [
    "tweets = pd.merge(tweets_df_b, uscities, left_on = 'Location', right_on = 'coordinates', how = 'left')"
   ]
  },
  {
   "cell_type": "code",
   "execution_count": 13,
   "metadata": {},
   "outputs": [],
   "source": [
    "tweets = tweets[['User', 'Date Created', 'Tweet', 'state_id', 'state_name', 'city', 'coordinates']]"
   ]
  },
  {
   "cell_type": "code",
   "execution_count": 15,
   "metadata": {},
   "outputs": [],
   "source": [
    "tweets.to_csv(\"Tweets.csv\", sep=',')"
   ]
  },
  {
   "cell_type": "code",
   "execution_count": null,
   "metadata": {},
   "outputs": [],
   "source": []
  }
 ],
 "metadata": {
  "kernelspec": {
   "display_name": "Python 3",
   "language": "python",
   "name": "python3"
  },
  "language_info": {
   "codemirror_mode": {
    "name": "ipython",
    "version": 3
   },
   "file_extension": ".py",
   "mimetype": "text/x-python",
   "name": "python",
   "nbconvert_exporter": "python",
   "pygments_lexer": "ipython3",
   "version": "3.7.3"
  }
 },
 "nbformat": 4,
 "nbformat_minor": 2
}
